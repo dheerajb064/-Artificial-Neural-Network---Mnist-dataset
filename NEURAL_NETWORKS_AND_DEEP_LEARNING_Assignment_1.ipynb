{
  "nbformat": 4,
  "nbformat_minor": 0,
  "metadata": {
    "colab": {
      "name": "NEURAL NETWORKS AND DEEP LEARNING Assignment 1.ipynb",
      "provenance": [],
      "collapsed_sections": [],
      "include_colab_link": true
    },
    "kernelspec": {
      "name": "python3",
      "display_name": "Python 3"
    },
    "language_info": {
      "name": "python"
    }
  },
  "cells": [
    {
      "cell_type": "markdown",
      "metadata": {
        "id": "view-in-github",
        "colab_type": "text"
      },
      "source": [
        "<a href=\"https://colab.research.google.com/github/dheerajb064/-Artificial-Neural-Network---Mnist-dataset/blob/main/NEURAL_NETWORKS_AND_DEEP_LEARNING_Assignment_1.ipynb\" target=\"_parent\"><img src=\"https://colab.research.google.com/assets/colab-badge.svg\" alt=\"Open In Colab\"/></a>"
      ]
    },
    {
      "cell_type": "markdown",
      "source": [
        "CST 395 -CSE Neural Networks and Deep Learning Assignment 1<br>\n",
        "Submiited by: Dheeraj B<br>\n",
        "              S5 CSE<br>\n",
        "              Roll no: 27 <br>\n",
        "              TVE19CS027<br>\n"
      ],
      "metadata": {
        "id": "po_8-VdSEiKc"
      }
    },
    {
      "cell_type": "markdown",
      "source": [
        "[github link](https://github.com/dheerajb064/-Artificial-Neural-Network---Mnist-dataset)\n",
        "\n",
        "\n",
        "\n",
        "[colab link](https://colab.research.google.com/drive/1m6QgeJDknUTQbI1ICI9iLK_pSGNreuyO#scrollTo=BlRzcWndLkh6)"
      ],
      "metadata": {
        "id": "BlRzcWndLkh6"
      }
    },
    {
      "cell_type": "markdown",
      "source": [
        "Importing necessary libraries"
      ],
      "metadata": {
        "id": "i-EBz1P4Es5-"
      }
    },
    {
      "cell_type": "code",
      "execution_count": 3,
      "metadata": {
        "id": "_lXwvi_TrcK1"
      },
      "outputs": [],
      "source": [
        "import numpy as np\n",
        "import matplotlib.pyplot as plt\n",
        "from keras.layers import Dense, Flatten\n",
        "from keras.models import Sequential\n",
        "from tensorflow import keras\n",
        "from tensorflow.keras.utils import to_categorical\n",
        "from tensorflow.keras.optimizers import Adam\n",
        "from keras.datasets import mnist"
      ]
    },
    {
      "cell_type": "markdown",
      "source": [
        "Loading the mnist dataset"
      ],
      "metadata": {
        "id": "uCRLtNc5Eyxo"
      }
    },
    {
      "cell_type": "code",
      "source": [
        "# Load MNIST handwritten digit data\n",
        "(X_train, y_train), (X_test, y_test) = mnist.load_data()"
      ],
      "metadata": {
        "id": "pSju9nhyrq9o",
        "colab": {
          "base_uri": "https://localhost:8080/"
        },
        "outputId": "5c958493-31f1-4d04-dc7e-1f57c9cdd64f"
      },
      "execution_count": 4,
      "outputs": [
        {
          "output_type": "stream",
          "name": "stdout",
          "text": [
            "Downloading data from https://storage.googleapis.com/tensorflow/tf-keras-datasets/mnist.npz\n",
            "11493376/11490434 [==============================] - 0s 0us/step\n",
            "11501568/11490434 [==============================] - 0s 0us/step\n"
          ]
        }
      ]
    },
    {
      "cell_type": "markdown",
      "source": [
        "Size of the training dataset"
      ],
      "metadata": {
        "id": "ubiFQZ0oE23h"
      }
    },
    {
      "cell_type": "code",
      "source": [
        "print(X_train.shape)\n",
        "print(X_test.shape)"
      ],
      "metadata": {
        "colab": {
          "base_uri": "https://localhost:8080/"
        },
        "id": "8bvh34ogrrpI",
        "outputId": "d7f57b16-77a7-403a-e469-4be4706924f8"
      },
      "execution_count": 5,
      "outputs": [
        {
          "output_type": "stream",
          "name": "stdout",
          "text": [
            "(60000, 28, 28)\n",
            "(10000, 28, 28)\n"
          ]
        }
      ]
    },
    {
      "cell_type": "markdown",
      "source": [
        "Size of the testing dataset"
      ],
      "metadata": {
        "id": "NFdmJ4nfE6vB"
      }
    },
    {
      "cell_type": "code",
      "source": [
        "print(y_train.shape)\n",
        "print(y_test.shape)"
      ],
      "metadata": {
        "colab": {
          "base_uri": "https://localhost:8080/"
        },
        "id": "V9PVPV-Trtr0",
        "outputId": "ad257c7e-4152-459e-c8a5-16b78dc4b5b7"
      },
      "execution_count": 6,
      "outputs": [
        {
          "output_type": "stream",
          "name": "stdout",
          "text": [
            "(60000,)\n",
            "(10000,)\n"
          ]
        }
      ]
    },
    {
      "cell_type": "code",
      "source": [
        "# Display some images\n",
        "fig, axes = plt.subplots(ncols=5,nrows=2, sharex=False, \n",
        "    sharey=True, figsize=(10, 4))\n",
        "for i in range(10):\n",
        "    x=i%2\n",
        "    y=i%5\n",
        "\n",
        "    axes[x,y].set_title(y_train[i])\n",
        "    axes[x,y].imshow(X_train[i], cmap='gray')\n",
        "    axes[x,y].get_xaxis().set_visible(False)\n",
        "    axes[x,y].get_yaxis().set_visible(False)\n",
        "plt.show()"
      ],
      "metadata": {
        "colab": {
          "base_uri": "https://localhost:8080/",
          "height": 265
        },
        "id": "MrVJA2Q_rvNd",
        "outputId": "c363e2b0-6425-4a60-8797-4a34e5167062"
      },
      "execution_count": 8,
      "outputs": [
        {
          "output_type": "display_data",
          "data": {
            "image/png": "[encoded data removed]",
            "text/plain": [
              "<Figure size 720x288 with 10 Axes>"
            ]
          },
          "metadata": {
            "needs_background": "light"
          }
        }
      ]
    },
    {
      "cell_type": "code",
      "source": [
        "# Convert y_train into one-hot format\n",
        "temp = []\n",
        "for i in range(len(y_train)):\n",
        "    temp.append(to_categorical(y_train[i], num_classes=10))\n",
        "y_train = np.array(temp)\n",
        "# Convert y_test into one-hot format\n",
        "temp = []\n",
        "for i in range(len(y_test)):    \n",
        "    temp.append(to_categorical(y_test[i], num_classes=10))\n",
        "y_test = np.array(temp)"
      ],
      "metadata": {
        "id": "V9NQ7PaQtMnd"
      },
      "execution_count": 9,
      "outputs": []
    },
    {
      "cell_type": "markdown",
      "source": [
        "### 1st Model"
      ],
      "metadata": {
        "id": "khy71kDuFB4A"
      }
    },
    {
      "cell_type": "code",
      "source": [
        "# Create simple Neural Network model\n",
        "def model_1():\n",
        "  model = Sequential()\n",
        "  model.add(Flatten(input_shape=(28,28)))\n",
        "  model.add(Dense(80, activation='relu'))\n",
        "  model.add(Dense(10, activation='softmax'))\n",
        "  opt = Adam(learning_rate=0.01)\n",
        "\n",
        "  # model.summary()\n",
        "\n",
        "  model.compile(loss='categorical_crossentropy', \n",
        "                optimizer='adam',\n",
        "                metrics=['acc'])\n",
        "  return model"
      ],
      "metadata": {
        "id": "YO1HJ89etVJf"
      },
      "execution_count": 10,
      "outputs": []
    },
    {
      "cell_type": "code",
      "source": [
        "# evaluate a model using k-fold cross-validation\n",
        "def evaluate_model(modelX):\n",
        "    scores = list()\n",
        "    # define model\n",
        "    model = modelX()\n",
        "    print(model.summary())\n",
        "    # fit model\n",
        "    history = model.fit(X_train, y_train, epochs=10, batch_size=32, validation_data=(X_test, y_test), verbose=1)\n",
        "    # evaluate model\n",
        "    _, acc = model.evaluate(X_test, y_test, verbose=1)\n",
        "    print('Validation Accuarcy %.3f' % (acc * 100.0))\n",
        "    # stores scores\n",
        "    scores.append(acc)\n",
        "    return scores, history"
      ],
      "metadata": {
        "id": "h9-QFlOjl-oN"
      },
      "execution_count": 11,
      "outputs": []
    },
    {
      "cell_type": "code",
      "source": [
        "# summarize history for accuracy\n",
        "def plot(history):\n",
        "  plt.plot(history.history['acc'])\n",
        "  plt.plot(history.history['val_acc'])\n",
        "  plt.title('model accuracy')\n",
        "  plt.ylabel('accuracy')\n",
        "  plt.xlabel('epoch')\n",
        "  plt.legend(['train', 'test'], loc='upper left')\n",
        "  plt.show()"
      ],
      "metadata": {
        "id": "lO37eicQtf98"
      },
      "execution_count": 12,
      "outputs": []
    },
    {
      "cell_type": "markdown",
      "source": [
        "Evaluating the 1st model"
      ],
      "metadata": {
        "id": "YBr3VgJ-FLOX"
      }
    },
    {
      "cell_type": "code",
      "source": [
        "scores, history = evaluate_model(model_1)"
      ],
      "metadata": {
        "colab": {
          "base_uri": "https://localhost:8080/"
        },
        "id": "xFpqzyqP5qXL",
        "outputId": "4555b475-d90a-4b47-c3a1-d4b49430cad8"
      },
      "execution_count": 13,
      "outputs": [
        {
          "output_type": "stream",
          "name": "stdout",
          "text": [
            "Model: \"sequential\"\n",
            "_________________________________________________________________\n",
            " Layer (type)                Output Shape              Param #   \n",
            "=================================================================\n",
            " flatten (Flatten)           (None, 784)               0         \n",
            "                                                                 \n",
            " dense (Dense)               (None, 80)                62800     \n",
            "                                                                 \n",
            " dense_1 (Dense)             (None, 10)                810       \n",
            "                                                                 \n",
            "=================================================================\n",
            "Total params: 63,610\n",
            "Trainable params: 63,610\n",
            "Non-trainable params: 0\n",
            "_________________________________________________________________\n",
            "None\n",
            "Epoch 1/10\n",
            "1875/1875 [==============================] - 6s 2ms/step - loss: 1.9662 - acc: 0.8080 - val_loss: 0.5290 - val_acc: 0.8820\n",
            "Epoch 2/10\n",
            "1875/1875 [==============================] - 5s 2ms/step - loss: 0.4280 - acc: 0.8944 - val_loss: 0.3909 - val_acc: 0.9069\n",
            "Epoch 3/10\n",
            "1875/1875 [==============================] - 4s 2ms/step - loss: 0.3235 - acc: 0.9157 - val_loss: 0.3265 - val_acc: 0.9226\n",
            "Epoch 4/10\n",
            "1875/1875 [==============================] - 4s 2ms/step - loss: 0.2636 - acc: 0.9305 - val_loss: 0.2965 - val_acc: 0.9288\n",
            "Epoch 5/10\n",
            "1875/1875 [==============================] - 5s 3ms/step - loss: 0.2346 - acc: 0.9381 - val_loss: 0.2713 - val_acc: 0.9333\n",
            "Epoch 6/10\n",
            "1875/1875 [==============================] - 4s 2ms/step - loss: 0.2218 - acc: 0.9426 - val_loss: 0.2773 - val_acc: 0.9386\n",
            "Epoch 7/10\n",
            "1875/1875 [==============================] - 5s 2ms/step - loss: 0.2161 - acc: 0.9434 - val_loss: 0.2689 - val_acc: 0.9411\n",
            "Epoch 8/10\n",
            "1875/1875 [==============================] - 5s 2ms/step - loss: 0.2009 - acc: 0.9481 - val_loss: 0.2524 - val_acc: 0.9433\n",
            "Epoch 9/10\n",
            "1875/1875 [==============================] - 4s 2ms/step - loss: 0.1943 - acc: 0.9505 - val_loss: 0.2773 - val_acc: 0.9406\n",
            "Epoch 10/10\n",
            "1875/1875 [==============================] - 4s 2ms/step - loss: 0.1919 - acc: 0.9510 - val_loss: 0.2584 - val_acc: 0.9429\n",
            "313/313 [==============================] - 1s 2ms/step - loss: 0.2584 - acc: 0.9429\n",
            "Validation Accuarcy 94.290\n"
          ]
        }
      ]
    },
    {
      "cell_type": "markdown",
      "source": [
        "#### Plot Accuracy vs Epoch chart for Model 1"
      ],
      "metadata": {
        "id": "P41WfJicFcp6"
      }
    },
    {
      "cell_type": "code",
      "source": [
        "plot(history)"
      ],
      "metadata": {
        "id": "HV5VrXT2tada",
        "colab": {
          "base_uri": "https://localhost:8080/",
          "height": 295
        },
        "outputId": "687f56b9-8a6d-4008-ee17-36eae1feef26"
      },
      "execution_count": 14,
      "outputs": [
        {
          "output_type": "display_data",
          "data": {
            "image/png": "[encoded data removed]",
            "text/plain": [
              "<Figure size 432x288 with 1 Axes>"
            ]
          },
          "metadata": {
            "needs_background": "light"
          }
        }
      ]
    },
    {
      "cell_type": "code",
      "source": [
        ""
      ],
      "metadata": {
        "id": "uKL6rllN6bIr"
      },
      "execution_count": 14,
      "outputs": []
    },
    {
      "cell_type": "code",
      "source": [
        ""
      ],
      "metadata": {
        "id": "pDcWXY0y9Etz"
      },
      "execution_count": 14,
      "outputs": []
    },
    {
      "cell_type": "code",
      "source": [
        ""
      ],
      "metadata": {
        "id": "pSU0CjTD9EwH"
      },
      "execution_count": 14,
      "outputs": []
    },
    {
      "cell_type": "markdown",
      "source": [
        "### 2nd Model"
      ],
      "metadata": {
        "id": "l3j1c0evFQgM"
      }
    },
    {
      "cell_type": "code",
      "source": [
        "# Create simple Neural Network model\n",
        "def model_2():\n",
        "  model = Sequential()\n",
        "  model.add(Flatten(input_shape=(28,28)))\n",
        "  model.add(Dense(50, activation='relu'))\n",
        "  model.add(Dense(50, activation='sigmoid'))\n",
        "  model.add(Dense(10, activation='softmax'))\n",
        "  opt = Adam(learning_rate=0.01)\n",
        "\n",
        "  # model.summary()\n",
        "\n",
        "  model.compile(loss='categorical_crossentropy', \n",
        "                optimizer='adam',\n",
        "                metrics=['acc'])\n",
        "  return model"
      ],
      "metadata": {
        "id": "pORYBwpV9Eyb"
      },
      "execution_count": 15,
      "outputs": []
    },
    {
      "cell_type": "code",
      "source": [
        "scores, history = evaluate_model(model_2)"
      ],
      "metadata": {
        "colab": {
          "base_uri": "https://localhost:8080/"
        },
        "id": "4dfrkKpW9E0p",
        "outputId": "7f6408fd-f532-4d9a-a735-8d77f943f061"
      },
      "execution_count": 16,
      "outputs": [
        {
          "output_type": "stream",
          "name": "stdout",
          "text": [
            "Model: \"sequential_1\"\n",
            "_________________________________________________________________\n",
            " Layer (type)                Output Shape              Param #   \n",
            "=================================================================\n",
            " flatten_1 (Flatten)         (None, 784)               0         \n",
            "                                                                 \n",
            " dense_2 (Dense)             (None, 50)                39250     \n",
            "                                                                 \n",
            " dense_3 (Dense)             (None, 50)                2550      \n",
            "                                                                 \n",
            " dense_4 (Dense)             (None, 10)                510       \n",
            "                                                                 \n",
            "=================================================================\n",
            "Total params: 42,310\n",
            "Trainable params: 42,310\n",
            "Non-trainable params: 0\n",
            "_________________________________________________________________\n",
            "None\n",
            "Epoch 1/10\n",
            "1875/1875 [==============================] - 5s 3ms/step - loss: 0.6015 - acc: 0.8341 - val_loss: 0.3360 - val_acc: 0.9040\n",
            "Epoch 2/10\n",
            "1875/1875 [==============================] - 5s 3ms/step - loss: 0.3207 - acc: 0.9061 - val_loss: 0.2979 - val_acc: 0.9105\n",
            "Epoch 3/10\n",
            "1875/1875 [==============================] - 5s 3ms/step - loss: 0.2887 - acc: 0.9149 - val_loss: 0.3214 - val_acc: 0.9056\n",
            "Epoch 4/10\n",
            "1875/1875 [==============================] - 5s 3ms/step - loss: 0.2747 - acc: 0.9177 - val_loss: 0.2678 - val_acc: 0.9205\n",
            "Epoch 5/10\n",
            "1875/1875 [==============================] - 5s 3ms/step - loss: 0.2619 - acc: 0.9223 - val_loss: 0.2562 - val_acc: 0.9271\n",
            "Epoch 6/10\n",
            "1875/1875 [==============================] - 5s 3ms/step - loss: 0.2555 - acc: 0.9232 - val_loss: 0.2510 - val_acc: 0.9291\n",
            "Epoch 7/10\n",
            "1875/1875 [==============================] - 5s 3ms/step - loss: 0.2510 - acc: 0.9248 - val_loss: 0.2543 - val_acc: 0.9201\n",
            "Epoch 8/10\n",
            "1875/1875 [==============================] - 5s 3ms/step - loss: 0.2329 - acc: 0.9308 - val_loss: 0.2302 - val_acc: 0.9330\n",
            "Epoch 9/10\n",
            "1875/1875 [==============================] - 5s 3ms/step - loss: 0.2275 - acc: 0.9331 - val_loss: 0.2410 - val_acc: 0.9276\n",
            "Epoch 10/10\n",
            "1875/1875 [==============================] - 5s 3ms/step - loss: 0.2223 - acc: 0.9344 - val_loss: 0.2109 - val_acc: 0.9392\n",
            "313/313 [==============================] - 1s 2ms/step - loss: 0.2109 - acc: 0.9392\n",
            "Validation Accuarcy 93.920\n"
          ]
        }
      ]
    },
    {
      "cell_type": "markdown",
      "source": [
        "#### Plot Accuracy vs Epoch chart for Model 2"
      ],
      "metadata": {
        "id": "ZDPnnb51FZ_6"
      }
    },
    {
      "cell_type": "code",
      "source": [
        "plot(history)"
      ],
      "metadata": {
        "colab": {
          "base_uri": "https://localhost:8080/",
          "height": 295
        },
        "id": "-FVgbYWj9E28",
        "outputId": "da0ac3c0-c098-420e-c03b-b3b7e55a9985"
      },
      "execution_count": 17,
      "outputs": [
        {
          "output_type": "display_data",
          "data": {
            "image/png": "[encoded data removed]",
            "text/plain": [
              "<Figure size 432x288 with 1 Axes>"
            ]
          },
          "metadata": {
            "needs_background": "light"
          }
        }
      ]
    }
  ]
}